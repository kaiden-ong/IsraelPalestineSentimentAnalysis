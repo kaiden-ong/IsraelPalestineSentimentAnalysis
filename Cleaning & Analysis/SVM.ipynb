{
 "cells": [
  {
   "cell_type": "code",
   "execution_count": 1,
   "id": "1e825bb2",
   "metadata": {},
   "outputs": [],
   "source": [
    "import matplotlib.pyplot as plt\n",
    "import csv\n",
    "from textblob import TextBlob\n",
    "import pandas\n",
    "import sklearn\n",
    "import _pickle as cPickle\n",
    "import numpy as np\n",
    "import pandas as pd\n",
    "from sklearn.feature_extraction.text import CountVectorizer, TfidfTransformer, TfidfVectorizer\n",
    "from sklearn.naive_bayes import MultinomialNB\n",
    "from sklearn.svm import SVC, LinearSVC\n",
    "from sklearn.metrics import classification_report, f1_score, accuracy_score, confusion_matrix\n",
    "from sklearn.pipeline import Pipeline\n",
    "from sklearn.model_selection import StratifiedKFold, cross_val_score, train_test_split \n",
    "import pickle\n",
    "import re\n",
    "from sklearn.model_selection import GridSearchCV"
   ]
  },
  {
   "cell_type": "code",
   "execution_count": 17,
   "id": "50132d73",
   "metadata": {},
   "outputs": [],
   "source": [
    "df = pd.read_csv('data.csv')"
   ]
  },
  {
   "cell_type": "code",
   "execution_count": 18,
   "id": "19e1c42e",
   "metadata": {},
   "outputs": [],
   "source": [
    "df = df.drop(df[df['Polarity'] == '?'].index)\n",
    "df = df.dropna(subset=['Polarity'])"
   ]
  },
  {
   "cell_type": "code",
   "execution_count": 19,
   "id": "49a7398e",
   "metadata": {},
   "outputs": [
    {
     "data": {
      "text/html": [
       "<div>\n",
       "<style scoped>\n",
       "    .dataframe tbody tr th:only-of-type {\n",
       "        vertical-align: middle;\n",
       "    }\n",
       "\n",
       "    .dataframe tbody tr th {\n",
       "        vertical-align: top;\n",
       "    }\n",
       "\n",
       "    .dataframe thead tr th {\n",
       "        text-align: left;\n",
       "    }\n",
       "\n",
       "    .dataframe thead tr:last-of-type th {\n",
       "        text-align: right;\n",
       "    }\n",
       "</style>\n",
       "<table border=\"1\" class=\"dataframe\">\n",
       "  <thead>\n",
       "    <tr>\n",
       "      <th></th>\n",
       "      <th colspan=\"8\" halign=\"left\">Unnamed: 0</th>\n",
       "    </tr>\n",
       "    <tr>\n",
       "      <th></th>\n",
       "      <th>count</th>\n",
       "      <th>mean</th>\n",
       "      <th>std</th>\n",
       "      <th>min</th>\n",
       "      <th>25%</th>\n",
       "      <th>50%</th>\n",
       "      <th>75%</th>\n",
       "      <th>max</th>\n",
       "    </tr>\n",
       "    <tr>\n",
       "      <th>Polarity</th>\n",
       "      <th></th>\n",
       "      <th></th>\n",
       "      <th></th>\n",
       "      <th></th>\n",
       "      <th></th>\n",
       "      <th></th>\n",
       "      <th></th>\n",
       "      <th></th>\n",
       "    </tr>\n",
       "  </thead>\n",
       "  <tbody>\n",
       "    <tr>\n",
       "      <th>-1.0</th>\n",
       "      <td>349.0</td>\n",
       "      <td>659.280802</td>\n",
       "      <td>383.161113</td>\n",
       "      <td>5.0</td>\n",
       "      <td>287.00</td>\n",
       "      <td>634.0</td>\n",
       "      <td>1012.00</td>\n",
       "      <td>1307.0</td>\n",
       "    </tr>\n",
       "    <tr>\n",
       "      <th>0.0</th>\n",
       "      <td>402.0</td>\n",
       "      <td>769.718905</td>\n",
       "      <td>368.736169</td>\n",
       "      <td>8.0</td>\n",
       "      <td>440.25</td>\n",
       "      <td>805.0</td>\n",
       "      <td>1084.75</td>\n",
       "      <td>1359.0</td>\n",
       "    </tr>\n",
       "    <tr>\n",
       "      <th>1.0</th>\n",
       "      <td>605.0</td>\n",
       "      <td>632.876033</td>\n",
       "      <td>404.390056</td>\n",
       "      <td>0.0</td>\n",
       "      <td>291.00</td>\n",
       "      <td>596.0</td>\n",
       "      <td>964.00</td>\n",
       "      <td>1358.0</td>\n",
       "    </tr>\n",
       "  </tbody>\n",
       "</table>\n",
       "</div>"
      ],
      "text/plain": [
       "         Unnamed: 0                                                       \\\n",
       "              count        mean         std  min     25%    50%      75%   \n",
       "Polarity                                                                   \n",
       "-1.0          349.0  659.280802  383.161113  5.0  287.00  634.0  1012.00   \n",
       " 0.0          402.0  769.718905  368.736169  8.0  440.25  805.0  1084.75   \n",
       " 1.0          605.0  632.876033  404.390056  0.0  291.00  596.0   964.00   \n",
       "\n",
       "                  \n",
       "             max  \n",
       "Polarity          \n",
       "-1.0      1307.0  \n",
       " 0.0      1359.0  \n",
       " 1.0      1358.0  "
      ]
     },
     "execution_count": 19,
     "metadata": {},
     "output_type": "execute_result"
    }
   ],
   "source": [
    "df.groupby('Polarity').describe()"
   ]
  },
  {
   "cell_type": "code",
   "execution_count": 20,
   "id": "f9ec11f7",
   "metadata": {},
   "outputs": [],
   "source": [
    "X = df['Tweet_Content']\n",
    "y = df['Polarity']"
   ]
  },
  {
   "cell_type": "code",
   "execution_count": null,
   "id": "3d17d1ab",
   "metadata": {},
   "outputs": [],
   "source": []
  },
  {
   "cell_type": "code",
   "execution_count": 21,
   "id": "e6ba89dd",
   "metadata": {},
   "outputs": [],
   "source": [
    "with open('Emoji_Dict.p', 'rb') as emoji_file:\n",
    "    emoji_dict = pickle.load(emoji_file)"
   ]
  },
  {
   "cell_type": "code",
   "execution_count": 22,
   "id": "76e4a488",
   "metadata": {},
   "outputs": [],
   "source": [
    "def map_emoji_to_emotion(tweet):\n",
    "    # Assuming `tweet` is a string containing the tweet text\n",
    "    # Iterate through each character in the tweet\n",
    "    for char in tweet:\n",
    "        # Check if the character is an emoji and exists in the emoji_dict\n",
    "        if char in emoji_dict:\n",
    "            # Map the emoji to its corresponding emotion\n",
    "            emotion = emoji_dict[char]\n",
    "            print(f\"Emoji: {char}, Emotion: {emotion}\")"
   ]
  },
  {
   "cell_type": "code",
   "execution_count": 23,
   "id": "d8e99397",
   "metadata": {},
   "outputs": [
    {
     "data": {
      "text/plain": [
       "0       None\n",
       "1       None\n",
       "2       None\n",
       "3       None\n",
       "4       None\n",
       "        ... \n",
       "1355    None\n",
       "1356    None\n",
       "1357    None\n",
       "1358    None\n",
       "1359    None\n",
       "Name: Tweet_Content, Length: 1356, dtype: object"
      ]
     },
     "execution_count": 23,
     "metadata": {},
     "output_type": "execute_result"
    }
   ],
   "source": [
    "X.apply(map_emoji_to_emotion)"
   ]
  },
  {
   "cell_type": "code",
   "execution_count": 24,
   "id": "54636122",
   "metadata": {},
   "outputs": [
    {
     "data": {
      "text/plain": [
       "0       big breaking youth of bahrain just burnt israe...\n",
       "1       egyptian comedian bassem youssef on israel “ i...\n",
       "2       breaking israel destroyed the largest tower in...\n",
       "3       breaking a super massive demonstration in paki...\n",
       "4       umm i think the needed some help to correct th...\n",
       "                              ...                        \n",
       "1355    martyr of aqsa from hezbollahpalestine gaza he...\n",
       "1356    israel arrested a woman who is unable to walks...\n",
       "1357    a entire world now busy with israel and palest...\n",
       "1358    a story told in tearsthat 's every individual ...\n",
       "1359    maya a 6 year old palestinian girl ha to carry...\n",
       "Name: Tweet_Content, Length: 1356, dtype: object"
      ]
     },
     "execution_count": 24,
     "metadata": {},
     "output_type": "execute_result"
    }
   ],
   "source": [
    "def split_into_lemmas(content):\n",
    "    # Remove '@' and '#' symbols\n",
    "    content = re.sub(r'[@#]', '', content)\n",
    "    # Convert to lowercase\n",
    "    content = content.lower()\n",
    "    # Tokenize and lemmatize\n",
    "    words = TextBlob(content).words\n",
    "    return ' '.join([word.lemma for word in words])\n",
    "\n",
    "X.apply(split_into_lemmas)"
   ]
  },
  {
   "cell_type": "code",
   "execution_count": 25,
   "id": "2938e43c",
   "metadata": {},
   "outputs": [],
   "source": [
    "count_vectorizer = CountVectorizer()\n",
    "X_count = count_vectorizer.fit_transform(X)\n",
    "\n",
    "# Create a TfidfTransformer\n",
    "tfidf_transformer = TfidfTransformer()\n",
    "X_tfidf = tfidf_transformer.fit_transform(X_count)"
   ]
  },
  {
   "cell_type": "code",
   "execution_count": 26,
   "id": "9860d501",
   "metadata": {},
   "outputs": [
    {
     "name": "stdout",
     "output_type": "stream",
     "text": [
      "(1356, 6639)\n"
     ]
    }
   ],
   "source": [
    "tfidf_transformer = TfidfTransformer()\n",
    "\n",
    "content_tfidf = tfidf_transformer.fit_transform(X_tfidf)\n",
    "print (content_tfidf.shape)"
   ]
  },
  {
   "cell_type": "code",
   "execution_count": 13,
   "id": "cbfa8802",
   "metadata": {},
   "outputs": [],
   "source": [
    "# spam_detector = MultinomialNB().fit(content_tfidf, df['Polarity'])\n",
    "\n",
    "# #How many messages does it classify correctly overall?\n",
    "# all_predictions = spam_detector.predict(content_tfidf)\n",
    "# print (all_predictions)"
   ]
  },
  {
   "cell_type": "code",
   "execution_count": 14,
   "id": "eb654f4f",
   "metadata": {},
   "outputs": [],
   "source": [
    "# print ('accuracy', accuracy_score(df['Polarity'], all_predictions))\n",
    "# print ('confusion matrix\\n', confusion_matrix(df['Polarity'], all_predictions))\n",
    "# print ('(row=expected, col=predicted)')"
   ]
  },
  {
   "cell_type": "code",
   "execution_count": 15,
   "id": "582cc171",
   "metadata": {},
   "outputs": [],
   "source": [
    "# plt.matshow(confusion_matrix(df['Polarity'], all_predictions), cmap=plt.cm.binary, interpolation='nearest')\n",
    "# plt.title('confusion matrix')\n",
    "# plt.colorbar()\n",
    "# plt.ylabel('expected label')\n",
    "# plt.xlabel('predicted label')"
   ]
  },
  {
   "cell_type": "code",
   "execution_count": 28,
   "id": "6c65a84d",
   "metadata": {},
   "outputs": [],
   "source": [
    "X_train, X_test, y_train, y_test = train_test_split(content_tfidf, y, test_size=0.2, random_state=42)"
   ]
  },
  {
   "cell_type": "code",
   "execution_count": 16,
   "id": "484f2b77",
   "metadata": {},
   "outputs": [],
   "source": [
    "pipeline_svm = Pipeline([\n",
    "    ('bow', CountVectorizer(analyzer=split_into_lemmas)),\n",
    "    ('tfidf', TfidfTransformer()),\n",
    "    ('classifier', SVC()),  # <== change here\n",
    "])\n",
    "\n",
    "# pipeline parameters to automatically explore and tune\n",
    "param_svm = [\n",
    "  {'classifier__C': [1, 10, 100, 1000], 'classifier__kernel': ['linear']},\n",
    "  {'classifier__C': [1, 10, 100, 1000], 'classifier__gamma': [0.001, 0.0001], 'classifier__kernel': ['rbf']},\n",
    "]\n",
    "\n",
    "grid_svm = GridSearchCV(\n",
    "    pipeline_svm,  # pipeline from above\n",
    "    param_grid=param_svm,  # parameters to tune via cross validation\n",
    "    refit=True,  # fit using all data, on the best detected classifier\n",
    "    n_jobs=-1,  # number of cores to use for parallelization; -1 for \"all cores\"\n",
    "    scoring='accuracy',  # what score are we optimizing?\n",
    "    cv=StratifiedKFold(n_splits=5),  # what type of cross validation to use\n",
    ")"
   ]
  },
  {
   "cell_type": "code",
   "execution_count": 17,
   "id": "c57e23aa",
   "metadata": {},
   "outputs": [
    {
     "name": "stdout",
     "output_type": "stream",
     "text": [
      "CPU times: total: 1.09 s\n",
      "Wall time: 1min 36s\n",
      "Confusion Matrix : \n",
      "\n",
      "[[26 12 25]\n",
      " [20 18 44]\n",
      " [17 12 98]]\n",
      "              precision    recall  f1-score   support\n",
      "\n",
      "        -1.0       0.41      0.41      0.41        63\n",
      "         0.0       0.43      0.22      0.29        82\n",
      "         1.0       0.59      0.77      0.67       127\n",
      "\n",
      "    accuracy                           0.52       272\n",
      "   macro avg       0.48      0.47      0.46       272\n",
      "weighted avg       0.50      0.52      0.49       272\n",
      "\n"
     ]
    }
   ],
   "source": [
    "%time svm_detector = grid_svm.fit(X_train, y_train) # find the best combination from param_svm\n",
    "print('Confusion Matrix : \\n')\n",
    "print(confusion_matrix(y_test, svm_detector.predict(X_test)))\n",
    "print(classification_report(y_test, svm_detector.predict(X_test)))"
   ]
  },
  {
   "cell_type": "code",
   "execution_count": 18,
   "id": "ff4476eb",
   "metadata": {},
   "outputs": [
    {
     "name": "stdout",
     "output_type": "stream",
     "text": [
      "1.0\n",
      "-1.0\n"
     ]
    }
   ],
   "source": [
    "print (svm_detector.predict([\"Pro Israel clowns are actually trying to compare gal galot to the Palestinian Queen Bella Hadid. Be real for once.\"])[0])\n",
    "print (svm_detector.predict([\"Funny that... show me one pro Israel protest that turned into such brutal and blatant violation of law and order. #TheWestIsNextisHere #HamasIsISIS #IStandWithIsrael\"])[0])"
   ]
  },
  {
   "cell_type": "code",
   "execution_count": 31,
   "id": "e1c48d9a",
   "metadata": {
    "scrolled": true
   },
   "outputs": [
    {
     "name": "stdout",
     "output_type": "stream",
     "text": [
      "done with 200\n",
      "done with 300\n",
      "done with 400\n",
      "done with 500\n",
      "done with 600\n",
      "done with 700\n",
      "done with 800\n",
      "done with 900\n",
      "done with 1000\n"
     ]
    }
   ],
   "source": [
    "train_accuracy_list = []\n",
    "test_accuracy_list = []\n",
    "\n",
    "for i in range(200, len(X_train), 100):\n",
    "    partial_X_train = X_train[:i]\n",
    "    partial_y_train = y_train[:i]\n",
    "    svm_detector.fit(partial_X_train, partial_y_train)\n",
    "\n",
    "    train_predictions = svm_detector.predict(partial_X_train)\n",
    "    test_predictions = svm_detector.predict(X_test)\n",
    "    train_accuracy = accuracy_score(partial_y_train, train_predictions)\n",
    "    test_accuracy = accuracy_score(y_test, test_predictions)\n",
    "\n",
    "    train_accuracy_list.append(train_accuracy)\n",
    "    test_accuracy_list.append(test_accuracy)\n",
    "    print(\"done with\", i)"
   ]
  },
  {
   "cell_type": "code",
   "execution_count": 33,
   "id": "0fb4e20e",
   "metadata": {},
   "outputs": [
    {
     "name": "stdout",
     "output_type": "stream",
     "text": [
      "[0.46, 0.47, 0.61, 0.584, 0.5933333333333334, 0.5971428571428572, 0.59625, 0.59, 0.575]\n",
      "[0.46691176470588236, 0.46691176470588236, 0.48161764705882354, 0.5036764705882353, 0.5183823529411765, 0.5294117647058824, 0.5220588235294118, 0.5330882352941176, 0.5330882352941176]\n"
     ]
    }
   ],
   "source": [
    "print(train_accuracy_list)\n",
    "print(test_accuracy_list)"
   ]
  },
  {
   "cell_type": "code",
   "execution_count": 35,
   "id": "4f8a1439",
   "metadata": {},
   "outputs": [
    {
     "data": {
      "image/png": "[encoded data removed]",
      "text/plain": [
       "<Figure size 800x500 with 1 Axes>"
      ]
     },
     "metadata": {},
     "output_type": "display_data"
    }
   ],
   "source": [
    "iterations = range(200, len(X_train), 100)\n",
    "\n",
    "# Plotting the graph\n",
    "plt.figure(figsize=(8, 5))\n",
    "plt.plot(iterations, train_accuracy_list, marker='o', linestyle='-', label='Train Accuracy')\n",
    "plt.plot(iterations, test_accuracy_list, marker='o', linestyle='-', label='Test Accuracy')\n",
    "plt.title('Training vs Testing Accuracy')\n",
    "plt.xlabel('Iterations')\n",
    "plt.ylabel('Accuracy')\n",
    "plt.xticks(iterations)\n",
    "plt.legend()\n",
    "plt.grid(True)\n",
    "plt.tight_layout()\n",
    "\n",
    "# Show plot\n",
    "plt.show()"
   ]
  },
  {
   "cell_type": "markdown",
   "id": "2f606295",
   "metadata": {},
   "source": [
    "## Naive Bayes"
   ]
  },
  {
   "cell_type": "code",
   "execution_count": 31,
   "id": "d7aa4d46",
   "metadata": {},
   "outputs": [
    {
     "name": "stdout",
     "output_type": "stream",
     "text": [
      "[-1.  1. -1. ...  0.  0.  1.]\n"
     ]
    }
   ],
   "source": [
    "naive_bayes = MultinomialNB().fit(X_train, y_train)\n",
    "\n",
    "# #How many tweets does it classify correctly overall?\n",
    "train_predictions = naive_bayes.predict(X_train)\n",
    "print (train_predictions)"
   ]
  },
  {
   "cell_type": "code",
   "execution_count": 33,
   "id": "43b8f2e7",
   "metadata": {},
   "outputs": [
    {
     "name": "stdout",
     "output_type": "stream",
     "text": [
      "accuracy 0.8837638376383764\n",
      "confusion matrix\n",
      " [[230   1  55]\n",
      " [  1 251  68]\n",
      " [  1   0 477]]\n",
      "(row=expected, col=predicted)\n"
     ]
    }
   ],
   "source": [
    "print ('accuracy', accuracy_score(y_train, train_predictions))\n",
    "print ('confusion matrix\\n', confusion_matrix(y_train, train_predictions))\n",
    "print ('(row=expected, col=predicted)')"
   ]
  },
  {
   "cell_type": "code",
   "execution_count": 35,
   "id": "ffb85738",
   "metadata": {},
   "outputs": [
    {
     "data": {
      "text/plain": [
       "Text(0.5, 0, 'predicted label')"
      ]
     },
     "execution_count": 35,
     "metadata": {},
     "output_type": "execute_result"
    },
    {
     "data": {
      "image/png": "[encoded data removed]",
      "text/plain": [
       "<Figure size 480x480 with 2 Axes>"
      ]
     },
     "metadata": {},
     "output_type": "display_data"
    }
   ],
   "source": [
    "plt.matshow(confusion_matrix(y_train, train_predictions), cmap=plt.cm.binary, interpolation='nearest')\n",
    "plt.title('confusion matrix')\n",
    "plt.colorbar()\n",
    "plt.ylabel('expected label')\n",
    "plt.xlabel('predicted label')"
   ]
  },
  {
   "cell_type": "code",
   "execution_count": 37,
   "id": "d113d778",
   "metadata": {},
   "outputs": [],
   "source": [
    "test_predictions = naive_bayes.predict(X_test)"
   ]
  },
  {
   "cell_type": "code",
   "execution_count": 38,
   "id": "b17f5ed7",
   "metadata": {},
   "outputs": [
    {
     "name": "stdout",
     "output_type": "stream",
     "text": [
      "accuracy 0.5477941176470589\n",
      "confusion matrix\n",
      " [[ 14   2  47]\n",
      " [  5  11  66]\n",
      " [  2   1 124]]\n",
      "(row=expected, col=predicted)\n"
     ]
    }
   ],
   "source": [
    "print ('accuracy', accuracy_score(y_test, test_predictions))\n",
    "print ('confusion matrix\\n', confusion_matrix(y_test, test_predictions))\n",
    "print ('(row=expected, col=predicted)')"
   ]
  },
  {
   "cell_type": "code",
   "execution_count": null,
   "id": "699fca37",
   "metadata": {},
   "outputs": [],
   "source": []
  }
 ],
 "metadata": {
  "kernelspec": {
   "display_name": "Python 3 (ipykernel)",
   "language": "python",
   "name": "python3"
  },
  "language_info": {
   "codemirror_mode": {
    "name": "ipython",
    "version": 3
   },
   "file_extension": ".py",
   "mimetype": "text/x-python",
   "name": "python",
   "nbconvert_exporter": "python",
   "pygments_lexer": "ipython3",
   "version": "3.10.9"
  }
 },
 "nbformat": 4,
 "nbformat_minor": 5
}
