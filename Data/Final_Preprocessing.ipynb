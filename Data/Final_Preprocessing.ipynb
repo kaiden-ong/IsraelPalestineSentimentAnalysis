{
 "cells": [
  {
   "cell_type": "code",
   "execution_count": 1,
   "id": "867d5d77",
   "metadata": {},
   "outputs": [],
   "source": [
    "import pandas as pd\n",
    "import numpy as np"
   ]
  },
  {
   "cell_type": "code",
   "execution_count": 2,
   "id": "d38dabdd",
   "metadata": {},
   "outputs": [],
   "source": [
    "preprocessed = pd.read_csv(\"./data/israel_palestine_PROCESSED.csv\")"
   ]
  },
  {
   "cell_type": "code",
   "execution_count": 3,
   "id": "c5e4b926",
   "metadata": {},
   "outputs": [],
   "source": [
    "new_df = pd.read_csv(\"./data/Tweets details by #Palestine.csv\")"
   ]
  },
  {
   "cell_type": "code",
   "execution_count": 5,
   "id": "1dbdf3c7",
   "metadata": {},
   "outputs": [],
   "source": [
    "new_df = new_df.drop(columns = ['Tweet_AD', 'Tweet_Video_URL'])"
   ]
  },
  {
   "cell_type": "code",
   "execution_count": 6,
   "id": "f3480270",
   "metadata": {},
   "outputs": [],
   "source": [
    "final = pd.concat([preprocessed, new_df])"
   ]
  },
  {
   "cell_type": "code",
   "execution_count": 7,
   "id": "d44b2d10",
   "metadata": {},
   "outputs": [
    {
     "data": {
      "text/plain": [
       "(1438, 14)"
      ]
     },
     "execution_count": 7,
     "metadata": {},
     "output_type": "execute_result"
    }
   ],
   "source": [
    "final.shape"
   ]
  },
  {
   "cell_type": "code",
   "execution_count": 8,
   "id": "fc31e678",
   "metadata": {},
   "outputs": [
    {
     "data": {
      "text/plain": [
       "Index(['Unnamed: 0', 'Category', 'Keyword', 'Web_Page_URL', 'Tweet_Website',\n",
       "       'Author_Name', 'Author_Web_Page_URL', 'Tweet_Timestamp',\n",
       "       'Tweet_Content', 'Tweet_Image_URL', 'Tweet_Number_of_Likes',\n",
       "       'Tweet_Number_of_Retweets', 'Tweet_Number_of_Reviews',\n",
       "       'Tweet_Number_of_Looks'],\n",
       "      dtype='object')"
      ]
     },
     "execution_count": 8,
     "metadata": {},
     "output_type": "execute_result"
    }
   ],
   "source": [
    "final.columns"
   ]
  },
  {
   "cell_type": "code",
   "execution_count": 10,
   "id": "1d1f6110",
   "metadata": {},
   "outputs": [],
   "source": [
    "final = final.drop(columns = ['Unnamed: 0'])"
   ]
  },
  {
   "cell_type": "code",
   "execution_count": 11,
   "id": "c92cb586",
   "metadata": {},
   "outputs": [],
   "source": [
    "final = final.reset_index(drop=True)"
   ]
  },
  {
   "cell_type": "code",
   "execution_count": 12,
   "id": "5d651f40",
   "metadata": {},
   "outputs": [],
   "source": [
    "final.drop_duplicates(keep='first', inplace=True)"
   ]
  },
  {
   "cell_type": "code",
   "execution_count": 13,
   "id": "5fdae603",
   "metadata": {},
   "outputs": [],
   "source": [
    "final.to_csv('final_data.csv')"
   ]
  },
  {
   "cell_type": "code",
   "execution_count": null,
   "id": "72763108",
   "metadata": {},
   "outputs": [],
   "source": []
  }
 ],
 "metadata": {
  "kernelspec": {
   "display_name": "Python 3 (ipykernel)",
   "language": "python",
   "name": "python3"
  },
  "language_info": {
   "codemirror_mode": {
    "name": "ipython",
    "version": 3
   },
   "file_extension": ".py",
   "mimetype": "text/x-python",
   "name": "python",
   "nbconvert_exporter": "python",
   "pygments_lexer": "ipython3",
   "version": "3.10.9"
  }
 },
 "nbformat": 4,
 "nbformat_minor": 5
}
