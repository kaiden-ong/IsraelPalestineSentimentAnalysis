{
 "cells": [
  {
   "cell_type": "code",
   "execution_count": 47,
   "id": "c79e58d6",
   "metadata": {},
   "outputs": [],
   "source": [
    "import pandas as pd\n",
    "import numpy as np"
   ]
  },
  {
   "cell_type": "code",
   "execution_count": 48,
   "id": "dca57e88",
   "metadata": {},
   "outputs": [],
   "source": [
    "set1 = pd.read_csv(\"./data/Tweets #IsraelPalestineConflict-10_11-10_20.csv\")\n",
    "\n",
    "set2 = pd.read_csv(\"./data/Tweets #IsraelPalestineConflict-10_11-10_20.csv\")\n",
    "\n",
    "set3 = pd.read_csv(\"./data/IsraelPalestineConflict.csv\")\n",
    "\n",
    "set3 = pd.read_csv(\"./data/Tweets #Israel.csv\")\n",
    "\n",
    "set4 = pd.read_csv(\"./data/Tweets #ProIsrael.csv\")\n",
    "\n",
    "set5 = pd.read_csv(\"./data/Tweets Pro Israel 10-10 - 10!28.csv\")\n",
    "\n",
    "set6 = pd.read_csv(\"./data/Tweets Pro Israel10_14-10_31.csv\")\n",
    "\n",
    "set7 = pd.read_csv(\"./data/Tweets Pro Palestine 10!30.csv\")\n",
    "\n",
    "set8 = pd.read_csv(\"./data/Tweets Pro Palestine 10!31-11!08.csv\")\n",
    "\n",
    "set9 = pd.read_csv(\"./data/Tweets Pro Palestine 10_7-10_130.csv\")\n",
    "\n",
    "set10 = pd.read_csv(\"./data/Tweets#IsraelPalestineWar.csv\")\n",
    "\n",
    "set11 = pd.read_csv(\"./data/Tweets#ProIsrael-10_15-10_31.csv\")\n",
    "\n",
    "set12 = pd.read_csv(\"./data/Tweets#ProIsrael-10_7-10_14.csv\")"
   ]
  },
  {
   "cell_type": "code",
   "execution_count": 49,
   "id": "ab46f6ae",
   "metadata": {},
   "outputs": [],
   "source": [
    "combined = pd.concat([set1, set2, set3, set4, set5, set6, set7, set8, set9, set10, set11, set12])\n",
    "combined = combined.reset_index(drop=True)"
   ]
  },
  {
   "cell_type": "code",
   "execution_count": 50,
   "id": "98aac165",
   "metadata": {},
   "outputs": [
    {
     "data": {
      "text/plain": [
       "(1314, 16)"
      ]
     },
     "execution_count": 50,
     "metadata": {},
     "output_type": "execute_result"
    }
   ],
   "source": [
    "combined.shape"
   ]
  },
  {
   "cell_type": "code",
   "execution_count": 51,
   "id": "b5469c9b",
   "metadata": {},
   "outputs": [
    {
     "data": {
      "text/plain": [
       "Index(['Category', 'Keyword', 'Web_Page_URL', 'Tweet_Website', 'Author_Name',\n",
       "       'Author_Web_Page_URL', 'Tweet_Timestamp', 'Tweet_Content',\n",
       "       'Tweet_Image_URL', 'Tweet_Number_of_Likes', 'Tweet_Number_of_Retweets',\n",
       "       'Tweet_Number_of_Reviews', 'Tweet_Video_URL', 'Tweet_AD',\n",
       "       'Tweet_Number_of_Looks', 'UTC_Time'],\n",
       "      dtype='object')"
      ]
     },
     "execution_count": 51,
     "metadata": {},
     "output_type": "execute_result"
    }
   ],
   "source": [
    "combined.columns"
   ]
  },
  {
   "cell_type": "code",
   "execution_count": 52,
   "id": "8ef832db",
   "metadata": {},
   "outputs": [],
   "source": [
    "combined = combined.drop(columns = ['UTC_Time', 'Tweet_AD', 'Tweet_Video_URL'])"
   ]
  },
  {
   "cell_type": "code",
   "execution_count": 53,
   "id": "cbdc3057",
   "metadata": {},
   "outputs": [
    {
     "data": {
      "text/plain": [
       "Index(['Category', 'Keyword', 'Web_Page_URL', 'Tweet_Website', 'Author_Name',\n",
       "       'Author_Web_Page_URL', 'Tweet_Timestamp', 'Tweet_Content',\n",
       "       'Tweet_Image_URL', 'Tweet_Number_of_Likes', 'Tweet_Number_of_Retweets',\n",
       "       'Tweet_Number_of_Reviews', 'Tweet_Number_of_Looks'],\n",
       "      dtype='object')"
      ]
     },
     "execution_count": 53,
     "metadata": {},
     "output_type": "execute_result"
    }
   ],
   "source": [
    "combined.columns"
   ]
  },
  {
   "cell_type": "code",
   "execution_count": 55,
   "id": "e81e84e5",
   "metadata": {},
   "outputs": [],
   "source": [
    "combined.drop_duplicates(keep='first', inplace=True)"
   ]
  },
  {
   "cell_type": "code",
   "execution_count": null,
   "id": "08aba2c2",
   "metadata": {},
   "outputs": [],
   "source": [
    "combined.to_csv('final_project_data.csv')"
   ]
  }
 ],
 "metadata": {
  "kernelspec": {
   "display_name": "Python 3 (ipykernel)",
   "language": "python",
   "name": "python3"
  },
  "language_info": {
   "codemirror_mode": {
    "name": "ipython",
    "version": 3
   },
   "file_extension": ".py",
   "mimetype": "text/x-python",
   "name": "python",
   "nbconvert_exporter": "python",
   "pygments_lexer": "ipython3",
   "version": "3.10.9"
  }
 },
 "nbformat": 4,
 "nbformat_minor": 5
}
